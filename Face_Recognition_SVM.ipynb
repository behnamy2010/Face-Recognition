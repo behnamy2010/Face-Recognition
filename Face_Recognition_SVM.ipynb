{
  "nbformat": 4,
  "nbformat_minor": 0,
  "metadata": {
    "colab": {
      "name": "Face_Recognition_SVM.ipynb",
      "provenance": []
    },
    "kernelspec": {
      "name": "python3",
      "display_name": "Python 3"
    },
    "language_info": {
      "name": "python"
    }
  },
  "cells": [
    {
      "cell_type": "code",
      "execution_count": 1,
      "metadata": {
        "id": "omVHKphbfGJ9"
      },
      "outputs": [],
      "source": [
        "import numpy as np\n",
        "import matplotlib.pyplot as plt\n",
        "from scipy import stats"
      ]
    },
    {
      "cell_type": "code",
      "source": [
        "from sklearn.datasets import fetch_lfw_people\n",
        "\n",
        "faces = fetch_lfw_people(min_faces_per_person=50)\n",
        "print(faces.target_names)\n",
        "print(faces.images.shape)"
      ],
      "metadata": {
        "colab": {
          "base_uri": "https://localhost:8080/"
        },
        "id": "jfFoVKk2fNlQ",
        "outputId": "d017a9a0-6395-4a40-858d-ddadded07a86"
      },
      "execution_count": 2,
      "outputs": [
        {
          "output_type": "stream",
          "name": "stdout",
          "text": [
            "['Ariel Sharon' 'Colin Powell' 'Donald Rumsfeld' 'George W Bush'\n",
            " 'Gerhard Schroeder' 'Hugo Chavez' 'Jacques Chirac' 'Jean Chretien'\n",
            " 'John Ashcroft' 'Junichiro Koizumi' 'Serena Williams' 'Tony Blair']\n",
            "(1560, 62, 47)\n"
          ]
        }
      ]
    },
    {
      "cell_type": "code",
      "source": [
        "from sklearn.svm import SVC\n",
        "\n",
        "#Using randomized PCA\n",
        "from sklearn.decomposition import PCA as RandomizedPCA\n",
        "from sklearn.pipeline import make_pipeline\n",
        "\n",
        "#preprocessing and classifier in the same package\n",
        "pca = RandomizedPCA(n_components=150, whiten=True, random_state=42)\n",
        "svc = SVC()\n",
        "model = make_pipeline(pca, svc)"
      ],
      "metadata": {
        "id": "OfhiiWQ4fVCg"
      },
      "execution_count": 3,
      "outputs": []
    },
    {
      "cell_type": "code",
      "source": [
        "from sklearn.model_selection import train_test_split\n",
        "\n",
        "Xtrain, Xtest, ytrain, ytest = train_test_split(faces.data, faces.target,test_size=0.20, random_state=42)"
      ],
      "metadata": {
        "id": "bVZhZvb7fcay"
      },
      "execution_count": 4,
      "outputs": []
    },
    {
      "cell_type": "code",
      "source": [
        "from sklearn.model_selection import GridSearchCV\n",
        "\n",
        "param_grid = {'svc__C': [1, 5, 10,50], 'svc__gamma': [0.0001, 0.0005, 0.001, 0.005]}\n",
        "\n",
        "grid = GridSearchCV(model, param_grid)\n",
        "\n",
        "grid.fit(Xtrain, ytrain) \n",
        "\n",
        "print(grid.best_params_)"
      ],
      "metadata": {
        "colab": {
          "base_uri": "https://localhost:8080/"
        },
        "id": "53Fi2vlhf1kV",
        "outputId": "14e336f0-44f9-4321-b2cb-d6664d146672"
      },
      "execution_count": 5,
      "outputs": [
        {
          "output_type": "stream",
          "name": "stdout",
          "text": [
            "{'svc__C': 10, 'svc__gamma': 0.001}\n"
          ]
        }
      ]
    },
    {
      "cell_type": "code",
      "source": [
        "model = grid.best_estimator_\n",
        "yfit = model.predict(Xtest)"
      ],
      "metadata": {
        "id": "5CEdO8fSf7j8"
      },
      "execution_count": 6,
      "outputs": []
    },
    {
      "cell_type": "code",
      "source": [
        "from sklearn.metrics import classification_report\n",
        "\n",
        "print(classification_report(ytest, yfit, target_names=faces.target_names))"
      ],
      "metadata": {
        "colab": {
          "base_uri": "https://localhost:8080/"
        },
        "id": "9SFknK3zgAyh",
        "outputId": "77a6d3f9-a282-4893-a110-624ad58306cd"
      },
      "execution_count": 7,
      "outputs": [
        {
          "output_type": "stream",
          "name": "stdout",
          "text": [
            "                   precision    recall  f1-score   support\n",
            "\n",
            "     Ariel Sharon       0.67      0.73      0.70        11\n",
            "     Colin Powell       0.76      0.87      0.81        55\n",
            "  Donald Rumsfeld       0.69      0.72      0.71        25\n",
            "    George W Bush       0.84      0.81      0.83       107\n",
            "Gerhard Schroeder       0.75      0.71      0.73        21\n",
            "      Hugo Chavez       0.90      0.64      0.75        14\n",
            "   Jacques Chirac       0.57      0.57      0.57         7\n",
            "    Jean Chretien       0.71      0.83      0.77        12\n",
            "    John Ashcroft       0.90      0.75      0.82        12\n",
            "Junichiro Koizumi       1.00      0.75      0.86         8\n",
            "  Serena Williams       0.71      0.71      0.71         7\n",
            "       Tony Blair       0.82      0.85      0.84        33\n",
            "\n",
            "         accuracy                           0.79       312\n",
            "        macro avg       0.78      0.75      0.76       312\n",
            "     weighted avg       0.80      0.79      0.79       312\n",
            "\n"
          ]
        }
      ]
    }
  ]
}